{
  "nbformat": 4,
  "nbformat_minor": 0,
  "metadata": {
    "colab": {
      "provenance": [],
      "include_colab_link": true
    },
    "kernelspec": {
      "name": "python3",
      "display_name": "Python 3"
    },
    "language_info": {
      "name": "python"
    }
  },
  "cells": [
    {
      "cell_type": "markdown",
      "metadata": {
        "id": "view-in-github",
        "colab_type": "text"
      },
      "source": [
        "<a href=\"https://colab.research.google.com/github/Gingira1213/OfficeWorkManual/blob/main/SD4_HB_Assignment0123_9_%EF%A8%91%E7%94%B0%E9%8A%80%E5%B9%B3_ipynb.ipynb\" target=\"_parent\"><img src=\"https://colab.research.google.com/assets/colab-badge.svg\" alt=\"Open In Colab\"/></a>"
      ]
    },
    {
      "cell_type": "markdown",
      "source": [
        "## 高度プログラミング演習Ｂ プログラムテンプレート\n",
        "## 統一指示\n",
        "\n",
        "\n",
        "1.   以下の形式でファイル名の「出席番号_フルネーム」の箇所を自分にあわせて変更してください\n",
        "2.   メニューの[ファイル]->[ドライブにコピーを保存]から自分のGoogleDrive内にコピーを保存してから、編集してください。最後に指示があったら、メニューの[ファイル]->[Githubにコピーを保存]からGithubOrganizationの25SD4組織内にコピーを保存・提出してください。\n",
        "\n",
        "\n",
        "\n"
      ],
      "metadata": {
        "id": "Lsy7tjsJ5Dt2"
      }
    },
    {
      "cell_type": "markdown",
      "source": [
        "# 以下の各セクションの指示に従い、コードセルを作成・追加し、GitHubに実行結果を提出してください。"
      ],
      "metadata": {
        "id": "ZlCpio8xrmJY"
      }
    },
    {
      "cell_type": "markdown",
      "source": [
        "## ①Tool Calling\n",
        "## 引き渡された値が偶数か否か判定する関数isEvenを作成し、APIに利用させて以下の問いに答えさせてください。\n",
        "### 「0は偶数ですか？」"
      ],
      "metadata": {
        "id": "lvp6-xUtb7Z1"
      }
    },
    {
      "cell_type": "code",
      "source": [
        "def isEven(n: int) -> bool:\n",
        "    return n % 2 == 0\n",
        "\n",
        "num = 0\n",
        "print(f\"{num}は偶数ですか？ → {isEven(num)}\")"
      ],
      "metadata": {
        "colab": {
          "base_uri": "https://localhost:8080/"
        },
        "id": "LlrQs6fU4TlF",
        "outputId": "2d81eafc-baa3-4f1d-eade-d2e2f09804e7"
      },
      "execution_count": 1,
      "outputs": [
        {
          "output_type": "stream",
          "name": "stdout",
          "text": [
            "0は偶数ですか？ → True\n"
          ]
        }
      ]
    },
    {
      "cell_type": "markdown",
      "source": [
        "## ②Few-shotプロンプティング\n",
        "## Few-Shotプロンプティングを利用して以下の文章「映画は面白かったけど、ポップコーンは冷めていた。」がポジティブ（肯定）かネガティブ（否定）か答えさせてください。\n",
        "文章: このレストランのサービスは本当に素晴らしかった！\n",
        "感情: ポジティブ\n",
        "\n",
        "注文した商品が届くのが遅すぎてがっかりした。\n",
        "感情: ネガティブ\n",
        "\n",
        "文章: 会議は午後3時に予定されています。\n",
        "感情: ニュートラル\n",
        "\n",
        "文章: 映画は面白かったけど、ポップコーンは冷めていた。\n",
        "感情:"
      ],
      "metadata": {
        "id": "himvc0XgsyDT"
      }
    },
    {
      "cell_type": "code",
      "source": [
        "!pip install -q google-generativeai\n",
        "import google.generativeai as genai\n",
        "from google.colab import userdata\n",
        "import os\n",
        "GOOGLE_API_KEY = userdata.get(\"GEMINI_API_KEY\")\n",
        "genai.configure(api_key=GOOGLE_API_KEY)\n",
        "model = genai.GenerativeModel('gemini-1.5-flash')"
      ],
      "metadata": {
        "id": "90EeJ93a5u7y"
      },
      "execution_count": 3,
      "outputs": []
    },
    {
      "cell_type": "code",
      "source": [
        "prompt =\"\"\"\n",
        "「映画は面白かったけど、ポップコーンは冷めていた。」\n",
        "がポジティブ（肯定）かネガティブ（否定）か答えてください\n",
        "\"\"\"\n",
        "\n",
        "response = model.generate_content(prompt)\n",
        "print(response.text)"
      ],
      "metadata": {
        "colab": {
          "base_uri": "https://localhost:8080/",
          "height": 54
        },
        "id": "0aemMdwC6x-L",
        "outputId": "86b23acf-3fdf-4cad-cdee-42fe7bd38d34"
      },
      "execution_count": 4,
      "outputs": [
        {
          "output_type": "stream",
          "name": "stdout",
          "text": [
            "ネガティブです。映画は面白かったというポジティブな要素がありますが、ポップコーンが冷めていたというネガティブな要素が全体的な印象を下げています。\n",
            "\n"
          ]
        }
      ]
    },
    {
      "cell_type": "markdown",
      "source": [
        "## ③Zero-shot Chain-of-Thoughtプロンプティング\n",
        "## Zero-shot Chain-of-Thoughtプロンプティングを利用して亀はなぜ寿命が長いのか、５ステップで答えさせてください。"
      ],
      "metadata": {
        "id": "a6XeEsrktxTW"
      }
    },
    {
      "cell_type": "code",
      "source": [
        "!pip install -q google-generativeai\n",
        "import google.generativeai as genai\n",
        "from google.colab import userdata\n",
        "import os\n",
        "import textwrap\n",
        "GOOGLE_API_KEY = userdata.get(\"GEMINI_API_KEY\")\n",
        "genai.configure(api_key=GOOGLE_API_KEY)\n",
        "model = genai.GenerativeModel('gemini-1.5-flash')"
      ],
      "metadata": {
        "id": "vFXnloO5srY_"
      },
      "execution_count": 5,
      "outputs": []
    },
    {
      "cell_type": "code",
      "source": [
        "prompt = \"亀はなぜ寿命が長いのかステップバイステップの5ステップで答えなさい\"\n",
        "response = model.generate_content(prompt)\n",
        "warapped_text = textwrap.fill(response.text, width=40)\n",
        "print(warapped_text)"
      ],
      "metadata": {
        "colab": {
          "base_uri": "https://localhost:8080/",
          "height": 447
        },
        "id": "azTLoWFO8E05",
        "outputId": "ac471cff-fe53-4b41-dd5c-dc82ea8ecb8c"
      },
      "execution_count": 6,
      "outputs": [
        {
          "output_type": "stream",
          "name": "stdout",
          "text": [
            "カメの長寿の理由をステップバイステップで5つのステップに分解すると、次のようにな\n",
            "ります。  **ステップ1：低い代謝率**  カメは、哺乳類や鳥類に比べて代謝率\n",
            "が非常に低いです。これは、細胞の修復や老化のプロセスがゆっくりと進むことを意味し\n",
            "ます。ゆっくりとした新陳代謝は、細胞の損傷や老化に関連するフリーラジカルの生成を\n",
            "抑制し、寿命の延長に貢献します。  **ステップ2：DNA修復メカニズム**  \n",
            "カメは、DNAの損傷を修復する効率的なメカニズムを持っています。DNA損傷は、老\n",
            "化や疾患に関連しているので、この効率的な修復能力は、寿命の延長に寄与します。具体\n",
            "的な遺伝子やタンパク質はまだ完全に解明されていませんが、研究が進められています。\n",
            "**ステップ3：抗酸化物質**  カメは、抗酸化物質を生成したり、食事から摂取し\n",
            "たりすることで、細胞を損傷から保護しています。抗酸化物質は、フリーラジカルを中和\n",
            "し、酸化ストレスによる細胞損傷を防ぎます。これは、老化を遅らせ、寿命を延ばす上で\n",
            "重要な役割を果たします。  **ステップ4：ストレス耐性**  カメは、厳しい環\n",
            "境条件、例えば、飢餓や脱水に対しても高い耐性を持っています。このストレス耐性は、\n",
            "細胞への損傷を軽減し、寿命の延長に貢献すると考えられています。 これは、細胞レベ\n",
            "ルの修復能力だけでなく、生理的な適応能力も含んでいると考えられます。\n",
            "**ステップ5：細胞老化の抑制**  カメは、細胞老化（細胞が分裂を停止し、機能\n",
            "を失うプロセス）を抑制するメカニズムを持っています。細胞老化は老化に大きく関連し\n",
            "ているので、この抑制メカニズムは、寿命の延長に重要な役割を果たします。このメカニ\n",
            "ズムの詳細は未だ研究段階ですが、他の長寿動物との比較研究が進められています。\n",
            "これらの５つのステップは相互に関連しており、カメの長寿はこれらの要因の複雑な相互\n",
            "作用の結果であると理解する必要があります。  それぞれのステップについて、さらな\n",
            "る研究が必要ですが、これらがカメの長寿に寄与する主要な要素であると考えられていま\n",
            "す。\n"
          ]
        }
      ]
    }
  ]
}